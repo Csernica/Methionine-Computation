{
 "cells": [
  {
   "cell_type": "markdown",
   "metadata": {},
   "source": [
    "Welcome to the Demo for our \"predict Measurements\" portion of the code. The point of this section is to simulate the results of a range of measurement types, including direct measurement and M+N experiments. We do so in the following way:\n",
    "\n",
    "1) Initialize a dataframe with relevant information for our molecule\n",
    "\n",
    "2) Use this dataframe to calculate all isotopologues of our molecule and their concentrations\n",
    "\n",
    "3) Pull out information about direct measurements\n",
    "\n",
    "4) Pull out information about M+N measurements\n",
    "\n",
    "5) Output this information as a .csv file\n",
    "\n",
    "We also optionally allow the use to predict visual mass spectra for a molecule. \n",
    "\n",
    "Our example here will be C2NO2. This is not a real molecule, but offers a good mix of simplicity and complexity to allow the use to understand what is going on without being overwhelmed with millions of datapoints. "
   ]
  },
  {
   "cell_type": "code",
   "execution_count": 1,
   "metadata": {},
   "outputs": [],
   "source": [
    "run calcIsotopologues.py"
   ]
  },
  {
   "cell_type": "code",
   "execution_count": 2,
   "metadata": {},
   "outputs": [],
   "source": [
    "run simulateMeasurements.py"
   ]
  },
  {
   "cell_type": "markdown",
   "metadata": {},
   "source": [
    "Here, we define basic information about the molecule we will examine. This includes an \"IDList\", naming the sites, an \"elIDs\" list, identifying the chemical element at each, \"numberAtSite\", giving the number of atoms corresponding to each site, and \"deltas\", a list of delta values for each site. \n",
    "\n",
    "We also include some fragmentation vectors, and will simulate the results of these fragmentation measurements. "
   ]
  },
  {
   "cell_type": "code",
   "execution_count": 3,
   "metadata": {},
   "outputs": [],
   "source": [
    "############################################################################################################\n",
    "###  First, initialize the molecule and the fragments we will be looking at. This includes an \"IDList\",  ###\n",
    "###  which gives names to the sites, \"elIDs\", giving their chemical element, \"numberAtSite\", giving the  ###\n",
    "###  number of atoms per site, \"deltas\", giving delta 13C vs PDB, 17O vs VSMOW, 33S vs CDT, 15N vs AIR,  ###\n",
    "###  and D vs VSMOW. 18O and 34/36S are assigned delta values based on mass scaling laws. The details    ###\n",
    "###  can be find in the basicDeltaOperations file.                                                       ###\n",
    "###                                                                                                      ###\n",
    "###  We then initialize the fragments, giving them entries of 1 or 'x' to indicate sites which are       ###\n",
    "###  retained or lost. We put all this information into a dataFrame to easily check.                     ###\n",
    "###                                                                                                      ###\n",
    "############################################################################################################\n",
    "\n",
    "##### INITIALIZE SITES #####\n",
    "IDList = ['C-1','C-2','N-3','O-4','O-5']\n",
    "elIDs = ['C','C','N','O','O']\n",
    "numberAtSite = [1,1,1,1,1]\n",
    "\n",
    "deltas = [25,-25,0,13,-13]\n",
    "\n",
    "frag_70 = [1,1,1,1,1]\n",
    "frag_54 = [1,1,1,1,'x']\n",
    "frag_42 = ['x',1,1,1,'x']\n",
    "\n",
    "l = [elIDs, numberAtSite, deltas, frag_70, frag_54, frag_42]\n",
    "\n",
    "df = pd.DataFrame(l, columns = IDList)\n",
    "df = df.transpose()\n",
    "df.columns = ['IDS','Number','deltas','frag_70','frag_54','frag_42']"
   ]
  },
  {
   "cell_type": "code",
   "execution_count": 4,
   "metadata": {},
   "outputs": [
    {
     "data": {
      "text/html": [
       "<div>\n",
       "<style scoped>\n",
       "    .dataframe tbody tr th:only-of-type {\n",
       "        vertical-align: middle;\n",
       "    }\n",
       "\n",
       "    .dataframe tbody tr th {\n",
       "        vertical-align: top;\n",
       "    }\n",
       "\n",
       "    .dataframe thead th {\n",
       "        text-align: right;\n",
       "    }\n",
       "</style>\n",
       "<table border=\"1\" class=\"dataframe\">\n",
       "  <thead>\n",
       "    <tr style=\"text-align: right;\">\n",
       "      <th></th>\n",
       "      <th>IDS</th>\n",
       "      <th>Number</th>\n",
       "      <th>deltas</th>\n",
       "      <th>frag_70</th>\n",
       "      <th>frag_54</th>\n",
       "      <th>frag_42</th>\n",
       "    </tr>\n",
       "  </thead>\n",
       "  <tbody>\n",
       "    <tr>\n",
       "      <th>C-1</th>\n",
       "      <td>C</td>\n",
       "      <td>1</td>\n",
       "      <td>25</td>\n",
       "      <td>1</td>\n",
       "      <td>1</td>\n",
       "      <td>x</td>\n",
       "    </tr>\n",
       "    <tr>\n",
       "      <th>C-2</th>\n",
       "      <td>C</td>\n",
       "      <td>1</td>\n",
       "      <td>-25</td>\n",
       "      <td>1</td>\n",
       "      <td>1</td>\n",
       "      <td>1</td>\n",
       "    </tr>\n",
       "    <tr>\n",
       "      <th>N-3</th>\n",
       "      <td>N</td>\n",
       "      <td>1</td>\n",
       "      <td>0</td>\n",
       "      <td>1</td>\n",
       "      <td>1</td>\n",
       "      <td>1</td>\n",
       "    </tr>\n",
       "    <tr>\n",
       "      <th>O-4</th>\n",
       "      <td>O</td>\n",
       "      <td>1</td>\n",
       "      <td>13</td>\n",
       "      <td>1</td>\n",
       "      <td>1</td>\n",
       "      <td>1</td>\n",
       "    </tr>\n",
       "    <tr>\n",
       "      <th>O-5</th>\n",
       "      <td>O</td>\n",
       "      <td>1</td>\n",
       "      <td>-13</td>\n",
       "      <td>1</td>\n",
       "      <td>x</td>\n",
       "      <td>x</td>\n",
       "    </tr>\n",
       "  </tbody>\n",
       "</table>\n",
       "</div>"
      ],
      "text/plain": [
       "    IDS Number deltas frag_70 frag_54 frag_42\n",
       "C-1   C      1     25       1       1       x\n",
       "C-2   C      1    -25       1       1       1\n",
       "N-3   N      1      0       1       1       1\n",
       "O-4   O      1     13       1       1       1\n",
       "O-5   O      1    -13       1       x       x"
      ]
     },
     "execution_count": 4,
     "metadata": {},
     "output_type": "execute_result"
    }
   ],
   "source": [
    "df"
   ]
  },
  {
   "cell_type": "markdown",
   "metadata": {},
   "source": [
    "The following steps calculate all isotopologues of a molecule and their concentrations. We encourage the user to look at what each of these variables are and correlate them to data objects from the M+N paper; they should be familiar. "
   ]
  },
  {
   "cell_type": "code",
   "execution_count": 5,
   "metadata": {},
   "outputs": [],
   "source": [
    "#This is the one variable that won't be correlated--it is a computational aid we will use later\n",
    "siteElements = strSiteElements(df)"
   ]
  },
  {
   "cell_type": "code",
   "execution_count": 6,
   "metadata": {},
   "outputs": [],
   "source": [
    "siteIsotopes, multinomialCoeff = calculateSetsOfSiteIsotopes(df)"
   ]
  },
  {
   "cell_type": "code",
   "execution_count": 7,
   "metadata": {},
   "outputs": [],
   "source": [
    "bigA, SN = calcAllIsotopologues(siteIsotopes, multinomialCoeff)"
   ]
  },
  {
   "cell_type": "code",
   "execution_count": 8,
   "metadata": {},
   "outputs": [],
   "source": [
    "concentrationArray = siteSpecificConcentrations(df)\n",
    "d = calculateIsotopologueConcentrations(bigA, SN, concentrationArray)"
   ]
  },
  {
   "cell_type": "markdown",
   "metadata": {},
   "source": [
    "d gives the concentration of all isotopologues"
   ]
  },
  {
   "cell_type": "markdown",
   "metadata": {},
   "source": [
    "We develop two ways of indexing into and using the set of all isotopologues. In the first case, we index by type of substitution--I.e. bySub['13C'] gives all isotopologues with a single H substiution. In the second case, we explicitly write the vector representation for an isotopologue; i.e. byCondensed['10000'] for that isotopologue. "
   ]
  },
  {
   "cell_type": "code",
   "execution_count": 9,
   "metadata": {},
   "outputs": [],
   "source": [
    "bySub = calcSubDictionary(d, df)"
   ]
  },
  {
   "cell_type": "code",
   "execution_count": 10,
   "metadata": {},
   "outputs": [],
   "source": [
    "byCondensed = calcCondensedDictionary(d, df)"
   ]
  },
  {
   "cell_type": "code",
   "execution_count": 11,
   "metadata": {},
   "outputs": [
    {
     "name": "stdout",
     "output_type": "stream",
     "text": [
      "1.0000000000000002\n",
      "1.0\n"
     ]
    }
   ],
   "source": [
    "###Should be = 1, minus floating point error\n",
    "s = 0\n",
    "for i, v in byCondensed.items():\n",
    "    s += v['Conc']\n",
    "print(s)\n",
    "\n",
    "s = 0\n",
    "for i, v in bySub.items():\n",
    "    s += v['Conc']\n",
    "print(s)"
   ]
  },
  {
   "cell_type": "markdown",
   "metadata": {},
   "source": [
    "Then we simulate the measurements we are interested in "
   ]
  },
  {
   "cell_type": "code",
   "execution_count": 12,
   "metadata": {},
   "outputs": [],
   "source": [
    "allMeasurementInfo = {}\n",
    "allMeasurementInfo = directMeasurement(bySub, allMeasurementInfo, massThreshold = 3)"
   ]
  },
  {
   "cell_type": "code",
   "execution_count": 13,
   "metadata": {},
   "outputs": [],
   "source": [
    "MN = massSelections(byCondensed, massThreshold = 4)\n",
    "\n",
    "condensedFrags = [frag_54, frag_42]\n",
    "expandedFrags = [expandFrag(x, numberAtSite) for x in condensedFrags]\n",
    "fragKeys = ['54','42']"
   ]
  },
  {
   "cell_type": "code",
   "execution_count": 14,
   "metadata": {
    "scrolled": true
   },
   "outputs": [
    {
     "data": {
      "text/plain": [
       "{'Full': {'': 0.9696862013627834,\n",
       "  '17O': 0.0007367675757954429,\n",
       "  '18O': 0.0038888295419453067,\n",
       "  '17O17O': 1.3992534964117162e-07,\n",
       "  '17O18O': 7.295789014038658e-07,\n",
       "  '18O17O': 7.473072975196862e-07,\n",
       "  '15N': 0.003564566476209593,\n",
       "  '15N17O': 2.7083576086240487e-06,\n",
       "  '15N18O': 1.429533739619095e-05,\n",
       "  '15N17O17O': 5.14365585280947e-10,\n",
       "  '13C': 0.02179311556390774,\n",
       "  '13C17O': 1.6558409205457103e-05,\n",
       "  '13C18O': 8.739911065749559e-05,\n",
       "  '13C17O17O': 3.1447382779755472e-09,\n",
       "  '13C15N': 8.011149281292486e-05,\n",
       "  '13C15N17O': 6.086871223926031e-08,\n",
       "  '13C13C': 0.0001223702698579299,\n",
       "  '13C13C17O': 9.297693103805514e-08,\n",
       "  '13C13C15N': 4.4983311199775034e-07},\n",
       " 'M0': {'54': {'': {'Abs. Abundance': 0.9696862013627834,\n",
       "    'Rel. Abundance': 1.0,\n",
       "    'Adj. Rel. Abundance': 1.0}},\n",
       "  '42': {'': {'Abs. Abundance': 0.9696862013627834,\n",
       "    'Rel. Abundance': 1.0,\n",
       "    'Adj. Rel. Abundance': 1.0}}},\n",
       " 'M1': {'54': {'15N': {'Abs. Abundance': 0.003564566476209593,\n",
       "    'Rel. Abundance': 0.13660247787084456,\n",
       "    'Adj. Rel. Abundance': 0.14057146353401864},\n",
       "   '13C': {'Abs. Abundance': 0.02179311556390774,\n",
       "    'Rel. Abundance': 0.8351628750436637,\n",
       "    'Adj. Rel. Abundance': 0.8594285364659813}},\n",
       "  '42': {'': {'Abs. Abundance': 0.011532566525157769,\n",
       "    'Rel. Abundance': 0.4419547717965679,\n",
       "    'Adj. Rel. Abundance': 0.44836679755234854},\n",
       "   '15N': {'Abs. Abundance': 0.003564566476209593,\n",
       "    'Rel. Abundance': 0.13660247787084456,\n",
       "    'Adj. Rel. Abundance': 0.1385843517237973},\n",
       "   '13C': {'Abs. Abundance': 0.010624143837405021,\n",
       "    'Rel. Abundance': 0.407141901583786,\n",
       "    'Adj. Rel. Abundance': 0.41304885072385417}}},\n",
       " 'M2': {'54': {'': {'Abs. Abundance': 0.001895804401698337,\n",
       "    'Rel. Abundance': 0.4611857109106995,\n",
       "    'Adj. Rel. Abundance': 0.4875},\n",
       "   '18O': {'Abs. Abundance': 0.0019930251402469697,\n",
       "    'Rel. Abundance': 0.4848362601881713,\n",
       "    'Adj. Rel. Abundance': 0.5125}},\n",
       "  '42': {'': {'Abs. Abundance': 0.0018999923338565696,\n",
       "    'Rel. Abundance': 0.4622044945298903,\n",
       "    'Adj. Rel. Abundance': 0.48805132432499254},\n",
       "   '18O': {'Abs. Abundance': 0.0019930251402469697,\n",
       "    'Rel. Abundance': 0.48483626018817116,\n",
       "    'Adj. Rel. Abundance': 0.5119486756750075}}},\n",
       " 'M3': {'54': {'13C': {'Abs. Abundance': 4.26070664455291e-05,\n",
       "    'Rel. Abundance': 0.41055705935078834,\n",
       "    'Adj. Rel. Abundance': 0.4875},\n",
       "   '13C-18O': {'Abs. Abundance': 4.4792044211966486e-05,\n",
       "    'Rel. Abundance': 0.43161126752262363,\n",
       "    'Adj. Rel. Abundance': 0.5125}},\n",
       "  '42': {'18O': {'Abs. Abundance': 2.3703229956152515e-05,\n",
       "    'Rel. Abundance': 0.228401746465102,\n",
       "    'Adj. Rel. Abundance': 0.2687675613366923},\n",
       "   '13C': {'Abs. Abundance': 2.0816829007662714e-05,\n",
       "    'Rel. Abundance': 0.20058870078090074,\n",
       "    'Adj. Rel. Abundance': 0.23603907051917158},\n",
       "   '13C-18O': {'Abs. Abundance': 2.1836121553333658e-05,\n",
       "    'Rel. Abundance': 0.21041049291727895,\n",
       "    'Adj. Rel. Abundance': 0.247596684072068},\n",
       "   '': {'Abs. Abundance': 2.1836121553333665e-05,\n",
       "    'Rel. Abundance': 0.21041049291727904,\n",
       "    'Adj. Rel. Abundance': 0.24759668407206806}}},\n",
       " 'M4': {'54': {'18O': {'Abs. Abundance': 3.896503660942643e-06,\n",
       "    'Rel. Abundance': 0.8207435735453921,\n",
       "    'Adj. Rel. Abundance': 1.0}},\n",
       "  '42': {'18O': {'Abs. Abundance': 3.9051112435454235e-06,\n",
       "    'Rel. Abundance': 0.8225566394936693,\n",
       "    'Adj. Rel. Abundance': 1.0}}}}"
      ]
     },
     "execution_count": 14,
     "metadata": {},
     "output_type": "execute_result"
    }
   ],
   "source": [
    "predictMNFragmentExpt(allMeasurementInfo, MN, expandedFrags, fragKeys, df, abundanceThreshold = 0.1)"
   ]
  },
  {
   "cell_type": "code",
   "execution_count": 15,
   "metadata": {},
   "outputs": [],
   "source": [
    "fullMoleculeU = ['13C','15N','17O','18O','13C13C','13C18O','18O18O']\n",
    "out = measurementToDf(allMeasurementInfo, bySub, fullMoleculeU)"
   ]
  },
  {
   "cell_type": "markdown",
   "metadata": {},
   "source": [
    "Our simulation gives the following output"
   ]
  },
  {
   "cell_type": "code",
   "execution_count": 16,
   "metadata": {
    "scrolled": false
   },
   "outputs": [
    {
     "data": {
      "text/html": [
       "<div>\n",
       "<style scoped>\n",
       "    .dataframe tbody tr th:only-of-type {\n",
       "        vertical-align: middle;\n",
       "    }\n",
       "\n",
       "    .dataframe tbody tr th {\n",
       "        vertical-align: top;\n",
       "    }\n",
       "\n",
       "    .dataframe thead th {\n",
       "        text-align: right;\n",
       "    }\n",
       "</style>\n",
       "<table border=\"1\" class=\"dataframe\">\n",
       "  <thead>\n",
       "    <tr style=\"text-align: right;\">\n",
       "      <th></th>\n",
       "      <th>Abs. Abundance</th>\n",
       "      <th>Rel. Abundance</th>\n",
       "      <th>Adj. Rel. Abundance</th>\n",
       "    </tr>\n",
       "  </thead>\n",
       "  <tbody>\n",
       "    <tr>\n",
       "      <th>13C U Value</th>\n",
       "      <td>0.022474400000000</td>\n",
       "      <td>0.022474400000000</td>\n",
       "      <td>0.022474400000000</td>\n",
       "    </tr>\n",
       "    <tr>\n",
       "      <th>15N U Value</th>\n",
       "      <td>0.003676000000000</td>\n",
       "      <td>0.003676000000000</td>\n",
       "      <td>0.003676000000000</td>\n",
       "    </tr>\n",
       "    <tr>\n",
       "      <th>17O U Value</th>\n",
       "      <td>0.000759800000000</td>\n",
       "      <td>0.000759800000000</td>\n",
       "      <td>0.000759800000000</td>\n",
       "    </tr>\n",
       "    <tr>\n",
       "      <th>18O U Value</th>\n",
       "      <td>0.004010400000000</td>\n",
       "      <td>0.004010400000000</td>\n",
       "      <td>0.004010400000000</td>\n",
       "    </tr>\n",
       "    <tr>\n",
       "      <th>13C13C U Value</th>\n",
       "      <td>0.000126195742175</td>\n",
       "      <td>0.000126195742175</td>\n",
       "      <td>0.000126195742175</td>\n",
       "    </tr>\n",
       "    <tr>\n",
       "      <th>13C18O U Value</th>\n",
       "      <td>0.000090131333760</td>\n",
       "      <td>0.000090131333760</td>\n",
       "      <td>0.000090131333760</td>\n",
       "    </tr>\n",
       "    <tr>\n",
       "      <th>18O18O U Value</th>\n",
       "      <td>0.000004018314023</td>\n",
       "      <td>0.000004018314023</td>\n",
       "      <td>0.000004018314023</td>\n",
       "    </tr>\n",
       "    <tr>\n",
       "      <th>M0 54</th>\n",
       "      <td>0.969686201362783</td>\n",
       "      <td>1.000000000000000</td>\n",
       "      <td>1.000000000000000</td>\n",
       "    </tr>\n",
       "    <tr>\n",
       "      <th>M0 42</th>\n",
       "      <td>0.969686201362783</td>\n",
       "      <td>1.000000000000000</td>\n",
       "      <td>1.000000000000000</td>\n",
       "    </tr>\n",
       "    <tr>\n",
       "      <th>M1 54 15N</th>\n",
       "      <td>0.003564566476210</td>\n",
       "      <td>0.136602477870845</td>\n",
       "      <td>0.140571463534019</td>\n",
       "    </tr>\n",
       "    <tr>\n",
       "      <th>M1 54 13C</th>\n",
       "      <td>0.021793115563908</td>\n",
       "      <td>0.835162875043664</td>\n",
       "      <td>0.859428536465981</td>\n",
       "    </tr>\n",
       "    <tr>\n",
       "      <th>M1 42</th>\n",
       "      <td>0.011532566525158</td>\n",
       "      <td>0.441954771796568</td>\n",
       "      <td>0.448366797552349</td>\n",
       "    </tr>\n",
       "    <tr>\n",
       "      <th>M1 42 15N</th>\n",
       "      <td>0.003564566476210</td>\n",
       "      <td>0.136602477870845</td>\n",
       "      <td>0.138584351723797</td>\n",
       "    </tr>\n",
       "    <tr>\n",
       "      <th>M1 42 13C</th>\n",
       "      <td>0.010624143837405</td>\n",
       "      <td>0.407141901583786</td>\n",
       "      <td>0.413048850723854</td>\n",
       "    </tr>\n",
       "    <tr>\n",
       "      <th>M2 54</th>\n",
       "      <td>0.001895804401698</td>\n",
       "      <td>0.461185710910699</td>\n",
       "      <td>0.487500000000000</td>\n",
       "    </tr>\n",
       "    <tr>\n",
       "      <th>M2 54 18O</th>\n",
       "      <td>0.001993025140247</td>\n",
       "      <td>0.484836260188171</td>\n",
       "      <td>0.512500000000000</td>\n",
       "    </tr>\n",
       "    <tr>\n",
       "      <th>M2 42</th>\n",
       "      <td>0.001899992333857</td>\n",
       "      <td>0.462204494529890</td>\n",
       "      <td>0.488051324324993</td>\n",
       "    </tr>\n",
       "    <tr>\n",
       "      <th>M2 42 18O</th>\n",
       "      <td>0.001993025140247</td>\n",
       "      <td>0.484836260188171</td>\n",
       "      <td>0.511948675675007</td>\n",
       "    </tr>\n",
       "    <tr>\n",
       "      <th>M3 54 13C</th>\n",
       "      <td>0.000042607066446</td>\n",
       "      <td>0.410557059350788</td>\n",
       "      <td>0.487500000000000</td>\n",
       "    </tr>\n",
       "    <tr>\n",
       "      <th>M3 54 13C-18O</th>\n",
       "      <td>0.000044792044212</td>\n",
       "      <td>0.431611267522624</td>\n",
       "      <td>0.512500000000000</td>\n",
       "    </tr>\n",
       "    <tr>\n",
       "      <th>M3 42 18O</th>\n",
       "      <td>0.000023703229956</td>\n",
       "      <td>0.228401746465102</td>\n",
       "      <td>0.268767561336692</td>\n",
       "    </tr>\n",
       "    <tr>\n",
       "      <th>M3 42 13C</th>\n",
       "      <td>0.000020816829008</td>\n",
       "      <td>0.200588700780901</td>\n",
       "      <td>0.236039070519172</td>\n",
       "    </tr>\n",
       "    <tr>\n",
       "      <th>M3 42 13C-18O</th>\n",
       "      <td>0.000021836121553</td>\n",
       "      <td>0.210410492917279</td>\n",
       "      <td>0.247596684072068</td>\n",
       "    </tr>\n",
       "    <tr>\n",
       "      <th>M3 42</th>\n",
       "      <td>0.000021836121553</td>\n",
       "      <td>0.210410492917279</td>\n",
       "      <td>0.247596684072068</td>\n",
       "    </tr>\n",
       "    <tr>\n",
       "      <th>M4 54 18O</th>\n",
       "      <td>0.000003896503661</td>\n",
       "      <td>0.820743573545392</td>\n",
       "      <td>1.000000000000000</td>\n",
       "    </tr>\n",
       "    <tr>\n",
       "      <th>M4 42 18O</th>\n",
       "      <td>0.000003905111244</td>\n",
       "      <td>0.822556639493669</td>\n",
       "      <td>1.000000000000000</td>\n",
       "    </tr>\n",
       "  </tbody>\n",
       "</table>\n",
       "</div>"
      ],
      "text/plain": [
       "                   Abs. Abundance     Rel. Abundance  Adj. Rel. Abundance\n",
       "13C U Value     0.022474400000000  0.022474400000000    0.022474400000000\n",
       "15N U Value     0.003676000000000  0.003676000000000    0.003676000000000\n",
       "17O U Value     0.000759800000000  0.000759800000000    0.000759800000000\n",
       "18O U Value     0.004010400000000  0.004010400000000    0.004010400000000\n",
       "13C13C U Value  0.000126195742175  0.000126195742175    0.000126195742175\n",
       "13C18O U Value  0.000090131333760  0.000090131333760    0.000090131333760\n",
       "18O18O U Value  0.000004018314023  0.000004018314023    0.000004018314023\n",
       "M0 54           0.969686201362783  1.000000000000000    1.000000000000000\n",
       "M0 42           0.969686201362783  1.000000000000000    1.000000000000000\n",
       "M1 54 15N       0.003564566476210  0.136602477870845    0.140571463534019\n",
       "M1 54 13C       0.021793115563908  0.835162875043664    0.859428536465981\n",
       "M1 42           0.011532566525158  0.441954771796568    0.448366797552349\n",
       "M1 42 15N       0.003564566476210  0.136602477870845    0.138584351723797\n",
       "M1 42 13C       0.010624143837405  0.407141901583786    0.413048850723854\n",
       "M2 54           0.001895804401698  0.461185710910699    0.487500000000000\n",
       "M2 54 18O       0.001993025140247  0.484836260188171    0.512500000000000\n",
       "M2 42           0.001899992333857  0.462204494529890    0.488051324324993\n",
       "M2 42 18O       0.001993025140247  0.484836260188171    0.511948675675007\n",
       "M3 54 13C       0.000042607066446  0.410557059350788    0.487500000000000\n",
       "M3 54 13C-18O   0.000044792044212  0.431611267522624    0.512500000000000\n",
       "M3 42 18O       0.000023703229956  0.228401746465102    0.268767561336692\n",
       "M3 42 13C       0.000020816829008  0.200588700780901    0.236039070519172\n",
       "M3 42 13C-18O   0.000021836121553  0.210410492917279    0.247596684072068\n",
       "M3 42           0.000021836121553  0.210410492917279    0.247596684072068\n",
       "M4 54 18O       0.000003896503661  0.820743573545392    1.000000000000000\n",
       "M4 42 18O       0.000003905111244  0.822556639493669    1.000000000000000"
      ]
     },
     "execution_count": 16,
     "metadata": {},
     "output_type": "execute_result"
    }
   ],
   "source": [
    "pd.set_option(\"precision\", 15)\n",
    "pd.set_option('display.max_rows', 500)\n",
    "out"
   ]
  },
  {
   "cell_type": "code",
   "execution_count": 17,
   "metadata": {},
   "outputs": [],
   "source": [
    "out.to_csv('M+N Demo C2NO2 Changed.csv')"
   ]
  },
  {
   "cell_type": "markdown",
   "metadata": {},
   "source": [
    "We can generate simulated spectra in the following way"
   ]
  },
  {
   "cell_type": "code",
   "execution_count": 18,
   "metadata": {},
   "outputs": [
    {
     "data": {
      "image/png": "[encoded data removed]",
      "text/plain": [
       "<Figure size 1440x288 with 1 Axes>"
      ]
     },
     "metadata": {
      "needs_background": "light"
     },
     "output_type": "display_data"
    }
   ],
   "source": [
    "import matplotlib.pyplot as plt\n",
    "\n",
    "#####PREDICT FULL SPECTRUM (NO FRAGMENT) #####\n",
    "#####CUT OFF ISOTOPOLOGUES WITH LOW REL ABUNDANCE #####\n",
    "\n",
    "##### TO DO: Integrate this with remainder of the code #####\n",
    "selectedIsotopologues = MN['M3']\n",
    "lowAbundanceCutOff = 0.01\n",
    "massError = -0.000\n",
    "\n",
    "\n",
    "predictSpectrum = {}\n",
    "for key, item in selectedIsotopologues.items():\n",
    "    mass = computeMass(key, siteElements)\n",
    "    correctedMass = mass + massError\n",
    "    subs = computeSubs(key, siteElements)\n",
    "    \n",
    "    if correctedMass not in predictSpectrum:\n",
    "        predictSpectrum[correctedMass] = {'Abs. Abundance':0}\n",
    "        \n",
    "        if 'Sub' not in predictSpectrum[correctedMass]:\n",
    "            predictSpectrum[correctedMass]['Sub'] = subs\n",
    "            \n",
    "    predictSpectrum[correctedMass]['Abs. Abundance'] += item['Conc']\n",
    "    \n",
    "totalAbundance = 0\n",
    "for key, item in predictSpectrum.items():\n",
    "    totalAbundance += item['Abs. Abundance']\n",
    "    \n",
    "massPlot = []\n",
    "relAbundPlot = []\n",
    "subPlot = []\n",
    "for key, item in predictSpectrum.items():\n",
    "    item['Rel. Abundance'] = item['Abs. Abundance'] / totalAbundance\n",
    "    massPlot.append(key)\n",
    "    relAbundPlot.append(item['Rel. Abundance'])\n",
    "    subPlot.append(item['Sub'])\n",
    "    \n",
    "fig, ax = plt.subplots(figsize = (20,4))\n",
    "massPlotcutOff = []\n",
    "subPlotcutOff = []\n",
    "for i in range(len(massPlot)):\n",
    "    if relAbundPlot[i] > lowAbundanceCutOff:\n",
    "        ax.vlines(massPlot[i], 0, relAbundPlot[i])\n",
    "        massPlotcutOff.append(massPlot[i])\n",
    "        subPlotcutOff.append(subPlot[i])\n",
    "ax.set_xticks(massPlotcutOff)\n",
    "labels = [str(round(x,5)) +'\\n' + y for x,y in zip(massPlotcutOff,subPlotcutOff)]\n",
    "ax.set_xticklabels(labels,rotation = 45);\n",
    "    "
   ]
  },
  {
   "cell_type": "code",
   "execution_count": 19,
   "metadata": {},
   "outputs": [
    {
     "data": {
      "image/png": "[encoded data removed]",
      "text/plain": [
       "<Figure size 720x288 with 1 Axes>"
      ]
     },
     "metadata": {
      "needs_background": "light"
     },
     "output_type": "display_data"
    }
   ],
   "source": [
    "##### PREDICT SPECTRUM WITH FRAGMENTATION #####\n",
    "selectedIsotopologues = MN[\"M3\"]\n",
    "lowAbundanceCutOff = 0.001\n",
    "massError = 0.000\n",
    "fragment = expandFrag(frag_54, list(df['Number'].values))\n",
    "bounds = None\n",
    "\n",
    "\n",
    "\n",
    "##### Fragment Isotopologues #####\n",
    "fragmentedDict = {}\n",
    "for isotopologue, data in selectedIsotopologues.items():\n",
    "    frag = [fragMult(x,y) for x, y in zip(fragment, isotopologue)]\n",
    "    newIsotopologue = ''.join(frag)\n",
    "    if newIsotopologue not in fragmentedDict:\n",
    "        fragmentedDict[newIsotopologue] = 0\n",
    "    fragmentedDict[newIsotopologue] += data['Conc']\n",
    "\n",
    "selectedIsotopologues = fragmentedDict\n",
    "\n",
    "\n",
    "##### Predict Spectrum #####\n",
    "predictSpectrum = {}\n",
    "for key, item in selectedIsotopologues.items():\n",
    "    mass = computeMass(key, siteElements)\n",
    "    correctedMass = mass + massError\n",
    "    subs = computeSubs(key, siteElements)\n",
    "    \n",
    "    if correctedMass not in predictSpectrum:\n",
    "        predictSpectrum[correctedMass] = {'Abs. Abundance':0}\n",
    "        \n",
    "        if 'Sub' not in predictSpectrum[correctedMass]:\n",
    "            predictSpectrum[correctedMass]['Sub'] = subs\n",
    "            \n",
    "    predictSpectrum[correctedMass]['Abs. Abundance'] += item\n",
    "    \n",
    "totalAbundance = 0\n",
    "for key, item in predictSpectrum.items():\n",
    "    totalAbundance += item['Abs. Abundance']\n",
    "    \n",
    "massPlot = []\n",
    "relAbundPlot = []\n",
    "subPlot = []\n",
    "for key, item in predictSpectrum.items():\n",
    "    item['Rel. Abundance'] = item['Abs. Abundance'] / totalAbundance\n",
    "    massPlot.append(key)\n",
    "    relAbundPlot.append(item['Rel. Abundance'])\n",
    "    subPlot.append(item['Sub'])\n",
    "    \n",
    "fig, ax = plt.subplots(figsize = (10,4))\n",
    "massPlotcutOff = []\n",
    "subPlotcutOff = []\n",
    "for i in range(len(massPlot)):\n",
    "    if relAbundPlot[i] > lowAbundanceCutOff:\n",
    "        ax.vlines(massPlot[i], 0, relAbundPlot[i])\n",
    "        massPlotcutOff.append(massPlot[i])\n",
    "        subPlotcutOff.append(subPlot[i])\n",
    "ax.set_xticks(massPlotcutOff)\n",
    "labels = [str(round(x,5)) +'\\n' + y for x,y in zip(massPlotcutOff,subPlotcutOff)]\n",
    "ax.set_xticklabels(labels,rotation = 45);\n",
    "if bounds != None:\n",
    "    ax.set_xlim(bounds[0],bounds[1])\n",
    "#ax.set_xlim(107.035, 107.07)\n",
    "    "
   ]
  }
 ],
 "metadata": {
  "kernelspec": {
   "display_name": "Python [conda env:Orbitrap] *",
   "language": "python",
   "name": "conda-env-Orbitrap-py"
  },
  "language_info": {
   "codemirror_mode": {
    "name": "ipython",
    "version": 3
   },
   "file_extension": ".py",
   "mimetype": "text/x-python",
   "name": "python",
   "nbconvert_exporter": "python",
   "pygments_lexer": "ipython3",
   "version": "3.8.5"
  }
 },
 "nbformat": 4,
 "nbformat_minor": 2
}
